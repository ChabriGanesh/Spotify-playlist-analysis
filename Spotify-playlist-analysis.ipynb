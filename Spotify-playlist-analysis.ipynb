{
 "cells": [
  {
   "cell_type": "code",
   "execution_count": 1,
   "id": "a34aeabe-1a60-4a1f-9136-0c2ef137e963",
   "metadata": {},
   "outputs": [],
   "source": [
    "import pandas as pd\n",
    "from sklearn.feature_extraction.text import CountVectorizer\n",
    "from sklearn.metrics.pairwise import cosine_similarity\n",
    "import numpy as np"
   ]
  },
  {
   "cell_type": "code",
   "execution_count": 16,
   "id": "82ed1415-7341-4f72-ade0-c0a3ff8e4245",
   "metadata": {},
   "outputs": [
    {
     "data": {
      "text/html": [
       "<div>\n",
       "<style scoped>\n",
       "    .dataframe tbody tr th:only-of-type {\n",
       "        vertical-align: middle;\n",
       "    }\n",
       "\n",
       "    .dataframe tbody tr th {\n",
       "        vertical-align: top;\n",
       "    }\n",
       "\n",
       "    .dataframe thead th {\n",
       "        text-align: right;\n",
       "    }\n",
       "</style>\n",
       "<table border=\"1\" class=\"dataframe\">\n",
       "  <thead>\n",
       "    <tr style=\"text-align: right;\">\n",
       "      <th></th>\n",
       "      <th>user_id</th>\n",
       "      <th>\"artistname\"</th>\n",
       "      <th>\"trackname\"</th>\n",
       "      <th>\"playlistname\"</th>\n",
       "    </tr>\n",
       "  </thead>\n",
       "  <tbody>\n",
       "    <tr>\n",
       "      <th>0</th>\n",
       "      <td>9cc0cfd4d7d7885102480dd99e7a90d6</td>\n",
       "      <td>Elvis Costello</td>\n",
       "      <td>(The Angels Wanna Wear My) Red Shoes</td>\n",
       "      <td>HARD ROCK 2010</td>\n",
       "    </tr>\n",
       "    <tr>\n",
       "      <th>1</th>\n",
       "      <td>9cc0cfd4d7d7885102480dd99e7a90d6</td>\n",
       "      <td>Elvis Costello &amp; The Attractions</td>\n",
       "      <td>(What's So Funny 'Bout) Peace, Love And Unders...</td>\n",
       "      <td>HARD ROCK 2010</td>\n",
       "    </tr>\n",
       "    <tr>\n",
       "      <th>2</th>\n",
       "      <td>9cc0cfd4d7d7885102480dd99e7a90d6</td>\n",
       "      <td>Tiffany Page</td>\n",
       "      <td>7 Years Too Late</td>\n",
       "      <td>HARD ROCK 2010</td>\n",
       "    </tr>\n",
       "    <tr>\n",
       "      <th>3</th>\n",
       "      <td>9cc0cfd4d7d7885102480dd99e7a90d6</td>\n",
       "      <td>Elvis Costello &amp; The Attractions</td>\n",
       "      <td>Accidents Will Happen</td>\n",
       "      <td>HARD ROCK 2010</td>\n",
       "    </tr>\n",
       "    <tr>\n",
       "      <th>4</th>\n",
       "      <td>9cc0cfd4d7d7885102480dd99e7a90d6</td>\n",
       "      <td>Elvis Costello</td>\n",
       "      <td>Alison</td>\n",
       "      <td>HARD ROCK 2010</td>\n",
       "    </tr>\n",
       "  </tbody>\n",
       "</table>\n",
       "</div>"
      ],
      "text/plain": [
       "                            user_id                      \"artistname\"  \\\n",
       "0  9cc0cfd4d7d7885102480dd99e7a90d6                    Elvis Costello   \n",
       "1  9cc0cfd4d7d7885102480dd99e7a90d6  Elvis Costello & The Attractions   \n",
       "2  9cc0cfd4d7d7885102480dd99e7a90d6                      Tiffany Page   \n",
       "3  9cc0cfd4d7d7885102480dd99e7a90d6  Elvis Costello & The Attractions   \n",
       "4  9cc0cfd4d7d7885102480dd99e7a90d6                    Elvis Costello   \n",
       "\n",
       "                                         \"trackname\"  \"playlistname\"  \n",
       "0               (The Angels Wanna Wear My) Red Shoes  HARD ROCK 2010  \n",
       "1  (What's So Funny 'Bout) Peace, Love And Unders...  HARD ROCK 2010  \n",
       "2                                   7 Years Too Late  HARD ROCK 2010  \n",
       "3                              Accidents Will Happen  HARD ROCK 2010  \n",
       "4                                             Alison  HARD ROCK 2010  "
      ]
     },
     "execution_count": 16,
     "metadata": {},
     "output_type": "execute_result"
    }
   ],
   "source": [
    "# Load the dataset\n",
    "df = pd.read_csv(r\"C:\\Users\\Chabri Ganesh\\spotify_dataset.csv\", on_bad_lines = 'skip')\n",
    "df.head()"
   ]
  },
  {
   "cell_type": "code",
   "execution_count": 19,
   "id": "e2e8e541-8913-4d45-9ac9-d70eea262b59",
   "metadata": {},
   "outputs": [],
   "source": [
    "# Drop duplicates and handle missing values\n",
    "df.drop_duplicates(inplace=True)\n",
    "df.columns = df.columns.str.strip().str.replace('\"', '')\n",
    "df = df.dropna(subset=['artistname', 'trackname', 'playlistname'])"
   ]
  },
  {
   "cell_type": "code",
   "execution_count": 22,
   "id": "6bc362d2-3261-4c3b-b7ca-97c55864f569",
   "metadata": {},
   "outputs": [],
   "source": [
    "# Creating Combined Features for Each Song\n",
    "df['combined_features'] = df['trackname'] + ' ' + df['artistname'] + ' ' + df.get('genre', '')"
   ]
  },
  {
   "cell_type": "code",
   "execution_count": 23,
   "id": "8ec9b24b-441f-4cd9-ad3a-3f64ac5d167d",
   "metadata": {},
   "outputs": [],
   "source": [
    "# Vectorize Tracks for Similarity Calculation\n",
    "cv = CountVectorizer(stop_words='english')\n",
    "track_matrix = cv.fit_transform(df['combined_features'])"
   ]
  },
  {
   "cell_type": "code",
   "execution_count": 26,
   "id": "672905cf-9972-42b1-8eb3-55bdd1bb8cbb",
   "metadata": {},
   "outputs": [],
   "source": [
    "# Define Playlist Generation Function\n",
    "def recommend_tracks(seed_track, n=20):\n",
    "    if seed_track not in df['trackname'].values:\n",
    "        print(\"Seed track not found in the dataset.\")\n",
    "        return []\n",
    "    idx = df[df['trackname'] == seed_track].index[0]\n",
    "    cosine_scores = cosine_similarity(track_matrix[idx], track_matrix).flatten()\n",
    "    # Sort scores and get indices of top recommendations excluding the seed\n",
    "    similar_indices = np.argsort(cosine_scores)[::-1][1:n+1]\n",
    "    recommended = df.iloc[similar_indices][['trackname', 'artistname', 'playlistname']]\n",
    "    return recommended"
   ]
  },
  {
   "cell_type": "code",
   "execution_count": 27,
   "id": "40d75034-adf9-40f8-b065-dbc599813501",
   "metadata": {},
   "outputs": [
    {
     "name": "stdout",
     "output_type": "stream",
     "text": [
      "                    trackname       artistname  \\\n",
      "9547522            Bright Red  Laurie Anderson   \n",
      "6694158            Bright Red  Laurie Anderson   \n",
      "12441633        Here With You  Laurie Anderson   \n",
      "6694198         Here with You  Laurie Anderson   \n",
      "6694197         Here With You  Laurie Anderson   \n",
      "8293168         Here With You  Laurie Anderson   \n",
      "6694147   Beautiful Red Dress  Laurie Anderson   \n",
      "11743951  Beautiful Red Dress  Laurie Anderson   \n",
      "11328764  Beautiful Red Dress  Laurie Anderson   \n",
      "11328483  Beautiful Red Dress  Laurie Anderson   \n",
      "808298         Red Map - Live  Laurie Anderson   \n",
      "6694258        Red Map - Live  Laurie Anderson   \n",
      "6694110        Red Map - Live  Laurie Anderson   \n",
      "2918959   Beautiful Red Dress  Laurie Anderson   \n",
      "6694254              Progress  Laurie Anderson   \n",
      "808212                Falling  Laurie Anderson   \n",
      "10949707              Falling  Laurie Anderson   \n",
      "6108705            O Superman  Laurie Anderson   \n",
      "1384335            O Superman  Laurie Anderson   \n",
      "1180779            Speechless  Laurie Anderson   \n",
      "\n",
      "                                       playlistname  \n",
      "9547522                             nova tunes ....  \n",
      "6694158                             Laurie Anderson  \n",
      "12441633                           Tickles the ears  \n",
      "6694198                             Laurie Anderson  \n",
      "6694197                             Laurie Anderson  \n",
      "8293168                             laurie anderson  \n",
      "6694147                             Laurie Anderson  \n",
      "11743951                            Laurie Anderson  \n",
      "11328764                                     import  \n",
      "11328483                                    Starred  \n",
      "808298                              Preformance Art  \n",
      "6694258                             Laurie Anderson  \n",
      "6694110        Laurie Anderson – United States Live  \n",
      "2918959   DJ Woman From Mars Invades The Apocalypse  \n",
      "6694254                             Laurie Anderson  \n",
      "808212                              Preformance Art  \n",
      "10949707                                        fem  \n",
      "6108705                                       SONOS  \n",
      "1384335                                     Starred  \n",
      "1180779                Laurie Anderson - Bright Red  \n"
     ]
    }
   ],
   "source": [
    "# Example Usage\n",
    "rec_playlist = recommend_tracks('Shape of You')\n",
    "print(rec_playlist)"
   ]
  },
  {
   "cell_type": "code",
   "execution_count": 29,
   "id": "d9166e37-2d8e-41d3-99ca-b68a21ad46e5",
   "metadata": {},
   "outputs": [
    {
     "name": "stdout",
     "output_type": "stream",
     "text": [
      "\n",
      "Recommendations for: Here With You\n",
      "\n",
      "trackname      artistname                    playlistname\n",
      "     Mary Scissor Sisters                      00's Tunes\n",
      "     Mary Scissor Sisters            Definitely not greek\n",
      "     Mary Scissor Sisters                           Music\n",
      "     Mary Scissor Sisters Pale Shelter (Original Version)\n",
      "     Mary Scissor Sisters                         Starred\n",
      "     Mary Scissor Sisters                         Starred\n",
      "     Mary Scissor Sisters                         Starred\n",
      "     Mary Scissor Sisters                         Adriaan\n",
      "     Mary Scissor Sisters                 Night night mix\n",
      "     Mary Scissor Sisters                          Liquid\n",
      "\n",
      "Recommendations for: Bright Red\n",
      "\n",
      "trackname artistname                playlistname\n",
      "  Friends    Whodini                   oldemusic\n",
      "  Friends    Whodini                     Starred\n",
      "  Friends    Whodini         50 Hip Hop Classics\n",
      "  Friends    Whodini                  80's Music\n",
      "  Friends    Whodini                     Hip-Hop\n",
      "  Friends    Whodini             Pop Lock Music \n",
      "  Friends    Whodini                     Starred\n",
      "  Friends    Whodini Coke, Synth and Reaganomics\n",
      "  Friends    Whodini                 HIPHOP 80's\n",
      "  Friends    Whodini    Whodini – The Collection\n",
      "\n",
      "Recommendations for: O Superman\n",
      "\n",
      "                   trackname  artistname                      playlistname\n",
      "    Just Let Me Make Believe Roy Orbison Top Albums of the 60's in Spotify\n",
      "         Let's Make a Memory Roy Orbison              Roy Orbison – Crying\n",
      "         Let's Make a Memory Roy Orbison                       Roy Orbison\n",
      "         Let's Make A Memory Roy Orbison                           Starred\n",
      "      Let's All Make Believe       Oasis                           last.fm\n",
      "Just Might (Make Me Believe)   Sugarland                 *best of country*\n",
      "Just Might (Make Me Believe)   Sugarland                           country\n",
      "               Just One Time Roy Orbison Top Albums of the 60's in Spotify\n",
      "Just Might (Make Me Believe)   Sugarland                           Country\n",
      "Just Might (Make Me Believe)   Sugarland                  You've Got a Way\n"
     ]
    }
   ],
   "source": [
    "# Try with multiple seed tracks\n",
    "for seed in ['Here With You', 'Bright Red', 'O Superman']:\n",
    "    print(f\"\\nRecommendations for: {seed}\\n\")\n",
    "    print(recommend_tracks(seed, n=10).to_string(index=False))"
   ]
  },
  {
   "cell_type": "code",
   "execution_count": 32,
   "id": "15df1d24-96f0-421d-b927-27d6a5718b9d",
   "metadata": {},
   "outputs": [],
   "source": [
    "from sklearn.feature_extraction.text import TfidfVectorizer\n",
    "# TF-IDF Vectorization\n",
    "tfidf = TfidfVectorizer(stop_words='english')\n",
    "tfidf_matrix = tfidf.fit_transform(df['combined_features'])"
   ]
  },
  {
   "cell_type": "code",
   "execution_count": 33,
   "id": "474266c5-2d2a-4aae-a015-43de695877e8",
   "metadata": {},
   "outputs": [],
   "source": [
    "def recommend_tracks_tfidf(seed_track, n=20):\n",
    "    if seed_track not in df['trackname'].values:\n",
    "        print(\"Seed track not found in the dataset.\")\n",
    "        return []\n",
    "    idx = df[df['trackname'] == seed_track].index[0]\n",
    "    cosine_scores = cosine_similarity(tfidf_matrix[idx], tfidf_matrix).flatten()\n",
    "    similar_indices = np.argsort(cosine_scores)[::-1][1:n+1]  # Exclude seed itself\n",
    "    recommended = df.iloc[similar_indices][['trackname', 'artistname', 'playlistname']]\n",
    "    return recommended"
   ]
  },
  {
   "cell_type": "code",
   "execution_count": 34,
   "id": "e2653bf7-56f7-49ad-8baa-9ec216488f81",
   "metadata": {},
   "outputs": [
    {
     "name": "stdout",
     "output_type": "stream",
     "text": [
      "         trackname       artistname               playlistname\n",
      "210572        Mary  Scissor Sisters             Birthday feels\n",
      "8904306       Mary  Scissor Sisters  omg do you remember that?\n",
      "10864475      Mary  Scissor Sisters              Suicide songs\n",
      "7661354       Mary  Scissor Sisters                    Chilled\n",
      "9530192       Mary  Scissor Sisters                      Music\n",
      "6354824       Mary  Scissor Sisters                      PARTY\n",
      "12460325      Mary  Scissor Sisters               Dusty Sunday\n",
      "10701163      Mary  Scissor Sisters     Scissor Sisters. Hits.\n",
      "8780668       Mary  Scissor Sisters            Nats playlist 1\n",
      "3949877       Mary  Scissor Sisters                    Starred\n"
     ]
    }
   ],
   "source": [
    "rec_playlist_tfidf = recommend_tracks_tfidf('Here With You', n=10)\n",
    "print(rec_playlist_tfidf)"
   ]
  },
  {
   "cell_type": "code",
   "execution_count": 35,
   "id": "d3a4cf13-4355-482d-b3e7-affdc5071491",
   "metadata": {},
   "outputs": [],
   "source": [
    "def recommend_tracks_diverse(seed_track, n=20):\n",
    "    recs = recommend_tracks_tfidf(seed_track, n*3)  # get more for filtering\n",
    "    recs = recs.drop_duplicates(subset=['artistname'])  # unique artists\n",
    "    return recs.head(n)"
   ]
  },
  {
   "cell_type": "code",
   "execution_count": 36,
   "id": "9da8e6b8-dee9-415b-9f35-fbeb9b1357a0",
   "metadata": {},
   "outputs": [
    {
     "name": "stdout",
     "output_type": "stream",
     "text": [
      "        trackname artistname     playlistname\n",
      "8928035   Friends    Whodini  Pop Lock Music \n"
     ]
    }
   ],
   "source": [
    "print(recommend_tracks_diverse('Bright Red', n=10))"
   ]
  },
  {
   "cell_type": "code",
   "execution_count": 37,
   "id": "d50b99c1-6e32-4ae8-80db-fc2e08fb6c3a",
   "metadata": {},
   "outputs": [
    {
     "name": "stdout",
     "output_type": "stream",
     "text": [
      "Recommendations saved to recommendations.csv\n"
     ]
    }
   ],
   "source": [
    "recommendations = recommend_tracks_tfidf('O Superman', n=10)\n",
    "recommendations.to_csv('recommendations.csv', index=False)\n",
    "print(\"Recommendations saved to recommendations.csv\")"
   ]
  },
  {
   "cell_type": "code",
   "execution_count": 38,
   "id": "9afdb251-6fee-4c9e-b845-ace991e3942f",
   "metadata": {},
   "outputs": [
    {
     "data": {
      "application/vnd.jupyter.widget-view+json": {
       "model_id": "b2f2d4d5059a4bfc90ec623fc2c10cfe",
       "version_major": 2,
       "version_minor": 0
      },
      "text/plain": [
       "interactive(children=(Text(value='Here With You', description='Seed Track:'), IntSlider(value=10, description=…"
      ]
     },
     "execution_count": 38,
     "metadata": {},
     "output_type": "execute_result"
    }
   ],
   "source": [
    "import ipywidgets as widgets\n",
    "from IPython.display import display\n",
    "seed_input = widgets.Text(\n",
    "    value='Here With You',\n",
    "    description='Seed Track:',\n",
    "    disabled=False\n",
    ")\n",
    "num_input = widgets.IntSlider(\n",
    "    value=10,\n",
    "    min=1,\n",
    "    max=20,\n",
    "    step=1,\n",
    "    description='Num Songs:',\n",
    "    disabled=False\n",
    ")\n",
    "def display_recommendations(seed, n):\n",
    "    recs = recommend_tracks_tfidf(seed, n)\n",
    "    print(recs)\n",
    "widgets.interactive(display_recommendations, seed=seed_input, n=num_input)"
   ]
  },
  {
   "cell_type": "code",
   "execution_count": 39,
   "id": "d53522df-24d4-4197-8be4-19d5a5666079",
   "metadata": {},
   "outputs": [
    {
     "data": {
      "image/png": "[encoded data removed]",
      "text/plain": [
       "<Figure size 1200x600 with 1 Axes>"
      ]
     },
     "metadata": {},
     "output_type": "display_data"
    }
   ],
   "source": [
    "import matplotlib.pyplot as plt\n",
    "recs = recommend_tracks_tfidf('Here With You', n=20)\n",
    "plt.figure(figsize=(12,6))\n",
    "recs['artistname'].value_counts().plot(kind='bar')\n",
    "plt.title(\"Recommended Songs Distribution by Artist\")\n",
    "plt.xlabel(\"Artist\")\n",
    "plt.ylabel(\"Number of Songs\")\n",
    "plt.show()"
   ]
  },
  {
   "cell_type": "code",
   "execution_count": 40,
   "id": "f86e8fbe-3d70-42dd-b192-59140b81c725",
   "metadata": {},
   "outputs": [],
   "source": [
    "def recommend_tracks_with_popularity(seed_track, n=20, alpha=0.7):\n",
    "    if seed_track not in df['trackname'].values:\n",
    "        print(\"Seed track not found in dataset.\")\n",
    "        return []\n",
    "    idx = df[df['trackname'] == seed_track].index[0]\n",
    "    sim_scores = cosine_similarity(tfidf_matrix[idx], tfidf_matrix).flatten()    \n",
    "    # Normalize similarity and popularity (example popularity column: 'popularity')\n",
    "    if 'popularity' in df.columns:\n",
    "        pop_scores = df['popularity'].fillna(0)\n",
    "        pop_scores_norm = (pop_scores - pop_scores.min()) / (pop_scores.max() - pop_scores.min())\n",
    "    else:\n",
    "        pop_scores_norm = np.zeros_like(sim_scores)    \n",
    "    # Weighted score\n",
    "    combined_score = alpha * sim_scores + (1 - alpha) * pop_scores_norm\n",
    "    recommended_indices = np.argsort(combined_score)[::-1][1:n+1]\n",
    "    return df.iloc[recommended_indices][['trackname', 'artistname', 'playlistname', 'popularity'] if 'popularity' in df.columns else ['trackname', 'artistname', 'playlistname']]"
   ]
  },
  {
   "cell_type": "code",
   "execution_count": null,
   "id": "d11c2711-0bf6-4f6a-8aca-fb015974ca91",
   "metadata": {},
   "outputs": [],
   "source": []
  }
 ],
 "metadata": {
  "kernelspec": {
   "display_name": "Python 3 (ipykernel)",
   "language": "python",
   "name": "python3"
  },
  "language_info": {
   "codemirror_mode": {
    "name": "ipython",
    "version": 3
   },
   "file_extension": ".py",
   "mimetype": "text/x-python",
   "name": "python",
   "nbconvert_exporter": "python",
   "pygments_lexer": "ipython3",
   "version": "3.13.5"
  }
 },
 "nbformat": 4,
 "nbformat_minor": 5
}
